{
 "cells": [
  {
   "cell_type": "markdown",
   "metadata": {},
   "source": [
    "# Data validation example notebook"
   ]
  },
  {
   "cell_type": "markdown",
   "metadata": {},
   "source": [
    "In this tutorial notebook, we show how to implement and configure Great Expectations validation to run with your Kedro pipeline. We cover the following:\n",
    "\n",
    "- Overview of `kedro-great-expectations` integration\n",
    "- How to create and edit an expectation suite for a dataset\n",
    "- How to add two types of expectations. (Table and column level)\n",
    "- How to save expectations to our validation suite\n",
    "- A review of the results in html"
   ]
  },
  {
   "cell_type": "markdown",
   "metadata": {},
   "source": [
    "# Example of a GE validation  notebook\n",
    "Use this notebook to recreate and modify your expectation suite:\n",
    "\n",
    "**Expectation Suite Name**: `dataset_name` <br>\n",
    "*for this tutorial we would use in_out_recent as our dataset*"
   ]
  },
  {
   "cell_type": "code",
   "execution_count": 1,
   "metadata": {
    "collapsed": true
   },
   "outputs": [
    {
     "name": "stdout",
     "output_type": "stream",
     "text": [
      "2020-08-17 13:35:14,111 - root - INFO - ** Kedro project optimus_pkg\n",
      "2020-08-17 13:35:14,112 - root - INFO - Defined global variable `context` and `catalog`\n",
      "2020-08-17 13:35:14,117 - root - INFO - Registered line magic `run_viz`\n"
     ]
    }
   ],
   "source": [
    "%reload_kedro"
   ]
  },
  {
   "cell_type": "markdown",
   "metadata": {},
   "source": [
    "### Read dataset and assign batch"
   ]
  },
  {
   "cell_type": "code",
   "execution_count": 2,
   "metadata": {
    "collapsed": true
   },
   "outputs": [
    {
     "name": "stdout",
     "output_type": "stream",
     "text": [
      "2020-08-17T13:35:16-0500 - INFO - Great Expectations logging enabled at 20 level by JupyterUX module.\n",
      "2020-08-17 13:35:16,153 - great_expectations - INFO - Great Expectations logging enabled at 20 level by JupyterUX module.\n",
      "2020-08-17 13:35:16,286 - py.warnings - WARNING - /Users/Jeffery_Annor/anaconda3/envs/opt/lib/python3.7/site-packages/patsy/constraint.py:13: DeprecationWarning: Using or importing the ABCs from 'collections' instead of from 'collections.abc' is deprecated since Python 3.3,and in 3.9 it will stop working\n",
      "  from collections import Mapping\n",
      "\n",
      "2020-08-17 13:35:16,419 - py.warnings - WARNING - /Users/Jeffery_Annor/anaconda3/envs/opt/lib/python3.7/site-packages/jsonschema/validators.py:928: DeprecationWarning: The metaschema specified by $schema was not found. Using the latest draft to validate, but this will raise an error in the future.\n",
      "  cls = validator_for(schema)\n",
      "\n",
      "2020-08-17 13:35:16,461 - kedro.io.data_catalog - INFO - Loading data from `in_out_recent` (CSVDataSet)...\n",
      "2020-08-17 13:35:16,524 - py.warnings - WARNING - /Users/Jeffery_Annor/anaconda3/envs/opt/lib/python3.7/site-packages/great_expectations/data_asset/data_asset.py:82: UserWarning: Pandas doesn't allow columns to be created via a new attribute name - see https://pandas.pydata.org/pandas-docs/stable/indexing.html#attribute-access\n",
      "  self._batch_parameters = batch_parameters\n",
      "\n"
     ]
    },
    {
     "data": {
      "text/html": [
       "<div>\n",
       "<style scoped>\n",
       "    .dataframe tbody tr th:only-of-type {\n",
       "        vertical-align: middle;\n",
       "    }\n",
       "\n",
       "    .dataframe tbody tr th {\n",
       "        vertical-align: top;\n",
       "    }\n",
       "\n",
       "    .dataframe thead th {\n",
       "        text-align: right;\n",
       "    }\n",
       "</style>\n",
       "<table border=\"1\" class=\"dataframe\">\n",
       "  <thead>\n",
       "    <tr style=\"text-align: right;\">\n",
       "      <th></th>\n",
       "      <th>status_time</th>\n",
       "      <th>inp_quantity</th>\n",
       "      <th>cu_content</th>\n",
       "      <th>outp_quantity</th>\n",
       "      <th>inp_avg_hardness</th>\n",
       "    </tr>\n",
       "  </thead>\n",
       "  <tbody>\n",
       "    <tr>\n",
       "      <th>0</th>\n",
       "      <td>2020-07-27 03:59:58</td>\n",
       "      <td>147.0</td>\n",
       "      <td>0.079816</td>\n",
       "      <td>159</td>\n",
       "      <td>0.478026</td>\n",
       "    </tr>\n",
       "    <tr>\n",
       "      <th>1</th>\n",
       "      <td>2020-07-27 04:14:59</td>\n",
       "      <td>230.0</td>\n",
       "      <td>0.079816</td>\n",
       "      <td>238</td>\n",
       "      <td>0.503276</td>\n",
       "    </tr>\n",
       "    <tr>\n",
       "      <th>2</th>\n",
       "      <td>2020-07-27 04:29:56</td>\n",
       "      <td>251.0</td>\n",
       "      <td>0.079816</td>\n",
       "      <td>246</td>\n",
       "      <td>0.506612</td>\n",
       "    </tr>\n",
       "    <tr>\n",
       "      <th>3</th>\n",
       "      <td>2020-07-27 04:45:04</td>\n",
       "      <td>250.0</td>\n",
       "      <td>0.079816</td>\n",
       "      <td>251</td>\n",
       "      <td>0.518337</td>\n",
       "    </tr>\n",
       "    <tr>\n",
       "      <th>4</th>\n",
       "      <td>2020-07-27 05:00:00</td>\n",
       "      <td>240.0</td>\n",
       "      <td>0.079683</td>\n",
       "      <td>242</td>\n",
       "      <td>0.489977</td>\n",
       "    </tr>\n",
       "  </tbody>\n",
       "</table>\n",
       "</div>"
      ],
      "text/plain": [
       "           status_time  inp_quantity  cu_content  outp_quantity  \\\n",
       "0  2020-07-27 03:59:58         147.0    0.079816            159   \n",
       "1  2020-07-27 04:14:59         230.0    0.079816            238   \n",
       "2  2020-07-27 04:29:56         251.0    0.079816            246   \n",
       "3  2020-07-27 04:45:04         250.0    0.079816            251   \n",
       "4  2020-07-27 05:00:00         240.0    0.079683            242   \n",
       "\n",
       "   inp_avg_hardness  \n",
       "0          0.478026  \n",
       "1          0.503276  \n",
       "2          0.506612  \n",
       "3          0.518337  \n",
       "4          0.489977  "
      ]
     },
     "execution_count": 2,
     "metadata": {},
     "output_type": "execute_result"
    }
   ],
   "source": [
    "from datetime import datetime\n",
    "\n",
    "import great_expectations.jupyter_ux\n",
    "from great_expectations.data_context.types.resource_identifiers import (\n",
    "    ValidationResultIdentifier,\n",
    ")\n",
    "from kedro_great_expectations.config import KedroGEConfig\n",
    "from kedro_great_expectations import ge_context as ge\n",
    "\n",
    "kedro_ge_config = KedroGEConfig.for_interactive_mode(context)\n",
    "\n",
    "data_context = ge.get_ge_context()\n",
    "\n",
    "expectation_suite_name = \"in_out_recent\"\n",
    "dataset_name = \"in_out_recent\"\n",
    "suite = data_context.get_expectation_suite(expectation_suite_name)\n",
    "suite.expectations = []\n",
    "\n",
    "# Use kedro to load the dataset:\n",
    "batch_kwargs = ge.get_batch_kwargs(\n",
    "    data=catalog.load(dataset_name), ds_name=dataset_name, ge_context=data_context\n",
    ")\n",
    "batch = data_context.get_batch(batch_kwargs, suite.expectation_suite_name)\n",
    "batch.head(5)"
   ]
  },
  {
   "cell_type": "markdown",
   "metadata": {},
   "source": [
    "## Clear all expectations\n",
    "\n",
    "If this is the first time you're editing this expectation suite and you've autogenerated the expectations, you may wish to clear all and add the expectations selectively.\n",
    "\n",
    "In that case, run the code cell below and execute the cells containing the expectations you wish to keep before saving the suite. You can either delete the cells of those you don't wish to keep, but they will be automatically removed the next time you run `kedro ge edit in_out_recent` anyway.\n"
   ]
  },
  {
   "cell_type": "code",
   "execution_count": 3,
   "metadata": {
    "collapsed": true
   },
   "outputs": [],
   "source": [
    "batch._expectation_suite.expectations = []\n",
    "from core_pipelines.kedro_utils.great_expectations.great_expectations_utils import *\n",
    "params = context.params"
   ]
  },
  {
   "cell_type": "markdown",
   "metadata": {},
   "source": [
    "### Table Expectation(s)"
   ]
  },
  {
   "cell_type": "markdown",
   "metadata": {},
   "source": [
    "#### Validate if sensors are part of the dataframe"
   ]
  },
  {
   "cell_type": "code",
   "execution_count": 4,
   "metadata": {
    "collapsed": true
   },
   "outputs": [],
   "source": [
    "create_sensor_exist_expectation(batch, params)"
   ]
  },
  {
   "cell_type": "markdown",
   "metadata": {},
   "source": [
    "#### Validate if tags are part of the dataframe"
   ]
  },
  {
   "cell_type": "code",
   "execution_count": 5,
   "metadata": {
    "collapsed": true
   },
   "outputs": [],
   "source": [
    "create_data_length_expectation(batch, params)"
   ]
  },
  {
   "cell_type": "markdown",
   "metadata": {},
   "source": [
    "### Column Expectation(s)"
   ]
  },
  {
   "cell_type": "markdown",
   "metadata": {},
   "source": [
    "#### Validate a dataset has no null values in column"
   ]
  },
  {
   "cell_type": "code",
   "execution_count": 6,
   "metadata": {
    "collapsed": true
   },
   "outputs": [],
   "source": [
    "create_not_null_expectations_from_tagdict(batch)"
   ]
  },
  {
   "cell_type": "markdown",
   "metadata": {},
   "source": [
    "#### Validate the schema of a dataframe  with predefined key-pairs"
   ]
  },
  {
   "cell_type": "code",
   "execution_count": 7,
   "metadata": {
    "collapsed": true
   },
   "outputs": [],
   "source": [
    "create_data_schema_expectation(batch, params)"
   ]
  },
  {
   "cell_type": "markdown",
   "metadata": {},
   "source": [
    "#### Validate the timestamp column of the dataframe and ensure it conforms to the format provided"
   ]
  },
  {
   "cell_type": "code",
   "execution_count": 8,
   "metadata": {
    "collapsed": true
   },
   "outputs": [],
   "source": [
    "create_time_format_expectation(batch, params)"
   ]
  },
  {
   "cell_type": "markdown",
   "metadata": {},
   "source": [
    "#### Validate the value range of a dataset based on expected values defined in the TagDict"
   ]
  },
  {
   "cell_type": "code",
   "execution_count": 9,
   "metadata": {
    "collapsed": true
   },
   "outputs": [
    {
     "name": "stdout",
     "output_type": "stream",
     "text": [
      "2020-08-17 13:35:32,157 - kedro.io.data_catalog - INFO - Loading data from `td` (TagDictCSVLocalDataSet)...\n"
     ]
    }
   ],
   "source": [
    "# load tag dictionary\n",
    "td = catalog.load('td')\n",
    "create_range_expectations_from_tagdict(batch, td)"
   ]
  },
  {
   "cell_type": "markdown",
   "metadata": {},
   "source": [
    "#### Validate the sensor pairs to ensure if they have the same values"
   ]
  },
  {
   "cell_type": "code",
   "execution_count": 10,
   "metadata": {
    "collapsed": true
   },
   "outputs": [],
   "source": [
    "create_sensor_pair_equals_expectation(batch, params)"
   ]
  },
  {
   "cell_type": "markdown",
   "metadata": {},
   "source": [
    "#### Validate sensor values are not violating flatline rules i.e. no data change with in a process period"
   ]
  },
  {
   "cell_type": "code",
   "execution_count": 11,
   "metadata": {
    "collapsed": true
   },
   "outputs": [],
   "source": [
    "create_flatline_expectation(batch, params)"
   ]
  },
  {
   "cell_type": "markdown",
   "metadata": {},
   "source": [
    "#### Validate sensor values are not violating quantile anomaly detection"
   ]
  },
  {
   "cell_type": "code",
   "execution_count": 12,
   "metadata": {
    "collapsed": true
   },
   "outputs": [],
   "source": [
    "validate_column_quantile_anomaly(batch, params)"
   ]
  },
  {
   "cell_type": "markdown",
   "metadata": {},
   "source": [
    "#### Validate sensor values are not violating level shift anomaly detection"
   ]
  },
  {
   "cell_type": "code",
   "execution_count": 13,
   "metadata": {
    "collapsed": true
   },
   "outputs": [
    {
     "name": "stdout",
     "output_type": "stream",
     "text": [
      "2020-08-17 13:35:37,340 - numexpr.utils - INFO - Note: NumExpr detected 12 cores but \"NUMEXPR_MAX_THREADS\" not set, so enforcing safe limit of 8.\n",
      "2020-08-17 13:35:37,341 - numexpr.utils - INFO - NumExpr defaulting to 8 threads.\n"
     ]
    }
   ],
   "source": [
    "create_level_shift_expectation(batch, params)"
   ]
  },
  {
   "cell_type": "code",
   "execution_count": 14,
   "metadata": {
    "collapsed": true
   },
   "outputs": [],
   "source": [
    "validate_column_persist_anomaly(batch, params)"
   ]
  },
  {
   "cell_type": "code",
   "execution_count": 15,
   "metadata": {
    "collapsed": true
   },
   "outputs": [
    {
     "name": "stdout",
     "output_type": "stream",
     "text": [
      "2020-08-17 13:35:38,654 - py.warnings - WARNING - /Users/Jeffery_Annor/anaconda3/envs/opt/lib/python3.7/site-packages/great_expectations/data_asset/data_asset.py:82: UserWarning: Pandas doesn't allow columns to be created via a new attribute name - see https://pandas.pydata.org/pandas-docs/stable/indexing.html#attribute-access\n",
      "  self._batch_parameters = batch_parameters\n",
      "\n",
      "2020-08-17 13:35:38,667 - py.warnings - WARNING - /Users/Jeffery_Annor/anaconda3/envs/opt/lib/python3.7/site-packages/great_expectations/data_asset/data_asset.py:82: UserWarning: Pandas doesn't allow columns to be created via a new attribute name - see https://pandas.pydata.org/pandas-docs/stable/indexing.html#attribute-access\n",
      "  self._batch_parameters = batch_parameters\n",
      "\n"
     ]
    }
   ],
   "source": [
    "validate_multi_dimension_cluster_anomaly(batch, params)"
   ]
  },
  {
   "cell_type": "markdown",
   "metadata": {},
   "source": [
    "## Save Your Expectations\n",
    "\n",
    "Let's save the expectation suite as a JSON file in the `great_expectations/expectations` directory of your project.\n",
    "If you decide not to save some expectations that you created, use the [remove_expectaton method](https://docs.greatexpectations.io/en/latest/module_docs/data_asset_module.html?highlight=remove_expectation&utm_source=notebook&utm_medium=edit_expectations#great_expectations.data_asset.data_asset.DataAsset.remove_expectation).\n"
   ]
  },
  {
   "cell_type": "code",
   "execution_count": 16,
   "metadata": {
    "collapsed": true
   },
   "outputs": [
    {
     "name": "stdout",
     "output_type": "stream",
     "text": [
      "2020-08-17T13:35:41-0500 - INFO - \t37 expectation(s) included in expectation_suite. result_format settings filtered.\n",
      "2020-08-17 13:35:41,525 - great_expectations.data_asset.data_asset - INFO - \t37 expectation(s) included in expectation_suite. result_format settings filtered.\n",
      "2020-08-17 13:35:41,538 - py.warnings - WARNING - /Users/Jeffery_Annor/anaconda3/envs/opt/lib/python3.7/site-packages/jsonschema/validators.py:928: DeprecationWarning: The metaschema specified by $schema was not found. Using the latest draft to validate, but this will raise an error in the future.\n",
      "  cls = validator_for(schema)\n",
      "\n"
     ]
    }
   ],
   "source": [
    "batch.save_expectation_suite(discard_failed_expectations=False)"
   ]
  },
  {
   "cell_type": "markdown",
   "metadata": {},
   "source": [
    "## Review your Expectations (optional)\n",
    "\n",
    "Let's now run the validation operators against your expectation suite and rebuild your Data Docs, which helps you communicate about your data with both machines and humans.\n"
   ]
  },
  {
   "cell_type": "code",
   "execution_count": 17,
   "metadata": {
    "collapsed": true
   },
   "outputs": [
    {
     "name": "stdout",
     "output_type": "stream",
     "text": [
      "2020-08-17T13:35:43-0500 - INFO - \t37 expectation(s) included in expectation_suite.\n",
      "2020-08-17 13:35:43,861 - great_expectations.data_asset.data_asset - INFO - \t37 expectation(s) included in expectation_suite.\n",
      "2020-08-17 13:35:44,011 - py.warnings - WARNING - /Users/Jeffery_Annor/anaconda3/envs/opt/lib/python3.7/site-packages/great_expectations/core/__init__.py:113: DeprecationWarning: The truth value of an empty array is ambiguous. Returning False, but in future this will result in an error. Use `array.size > 0` to check that an array is not empty.\n",
      "  if not isinstance(data, list) and np.isnan(data):\n",
      "\n",
      "2020-08-17T13:35:45-0500 - WARNING - Validation result not found: ('in_out_recent', '20200624T123040.481823Z-kedro-ge-edit', '0df4b063f9a0d43d3070ff458c3f8ed6') - skipping\n",
      "2020-08-17 13:35:45,118 - great_expectations.render.renderer.site_builder - WARNING - Validation result not found: ('in_out_recent', '20200624T123040.481823Z-kedro-ge-edit', '0df4b063f9a0d43d3070ff458c3f8ed6') - skipping\n",
      "2020-08-17T13:35:45-0500 - WARNING - Validation result not found: ('in_out_recent', '20200624T120424.398851Z-kedro-ge-edit', '0c71db97883f0e7a985c475fc6425960') - skipping\n",
      "2020-08-17 13:35:45,122 - great_expectations.render.renderer.site_builder - WARNING - Validation result not found: ('in_out_recent', '20200624T120424.398851Z-kedro-ge-edit', '0c71db97883f0e7a985c475fc6425960') - skipping\n",
      "2020-08-17T13:35:45-0500 - WARNING - Validation result not found: ('in_out_recent', '20200624T115844.812554Z-kedro-ge-edit', '687d65aa22d5c70a4d18b5653759deec') - skipping\n",
      "2020-08-17 13:35:45,127 - great_expectations.render.renderer.site_builder - WARNING - Validation result not found: ('in_out_recent', '20200624T115844.812554Z-kedro-ge-edit', '687d65aa22d5c70a4d18b5653759deec') - skipping\n",
      "2020-08-17T13:35:45-0500 - WARNING - Validation result not found: ('in_out_recent', '20200624T115740.472650Z-kedro-ge-edit', '687d65aa22d5c70a4d18b5653759deec') - skipping\n",
      "2020-08-17 13:35:45,131 - great_expectations.render.renderer.site_builder - WARNING - Validation result not found: ('in_out_recent', '20200624T115740.472650Z-kedro-ge-edit', '687d65aa22d5c70a4d18b5653759deec') - skipping\n",
      "2020-08-17T13:35:55-0500 - WARNING - Validation result not found: ('in_out_recent', '20200624T123040.481823Z-kedro-ge-edit', '0df4b063f9a0d43d3070ff458c3f8ed6') - skipping\n",
      "2020-08-17 13:35:55,848 - great_expectations.render.renderer.site_builder - WARNING - Validation result not found: ('in_out_recent', '20200624T123040.481823Z-kedro-ge-edit', '0df4b063f9a0d43d3070ff458c3f8ed6') - skipping\n",
      "2020-08-17T13:35:55-0500 - WARNING - Validation result not found: ('in_out_recent', '20200624T120424.398851Z-kedro-ge-edit', '0c71db97883f0e7a985c475fc6425960') - skipping\n",
      "2020-08-17 13:35:55,852 - great_expectations.render.renderer.site_builder - WARNING - Validation result not found: ('in_out_recent', '20200624T120424.398851Z-kedro-ge-edit', '0c71db97883f0e7a985c475fc6425960') - skipping\n",
      "2020-08-17T13:35:55-0500 - WARNING - Validation result not found: ('in_out_recent', '20200624T115844.812554Z-kedro-ge-edit', '687d65aa22d5c70a4d18b5653759deec') - skipping\n",
      "2020-08-17 13:35:55,856 - great_expectations.render.renderer.site_builder - WARNING - Validation result not found: ('in_out_recent', '20200624T115844.812554Z-kedro-ge-edit', '687d65aa22d5c70a4d18b5653759deec') - skipping\n",
      "2020-08-17T13:35:55-0500 - WARNING - Validation result not found: ('in_out_recent', '20200624T115740.472650Z-kedro-ge-edit', '687d65aa22d5c70a4d18b5653759deec') - skipping\n",
      "2020-08-17 13:35:55,860 - great_expectations.render.renderer.site_builder - WARNING - Validation result not found: ('in_out_recent', '20200624T115740.472650Z-kedro-ge-edit', '687d65aa22d5c70a4d18b5653759deec') - skipping\n"
     ]
    }
   ],
   "source": [
    "run_id = datetime.utcnow().strftime(\"%Y%m%dT%H%M%S.%fZ-kedro-ge-edit\")\n",
    "\n",
    "results = data_context.run_validation_operator(\"action_list_operator\", assets_to_validate=[batch], run_id=run_id)\n",
    "expectation_suite_identifier = list(results[\"details\"].keys())[0]\n",
    "validation_result_identifier = ValidationResultIdentifier(\n",
    "    expectation_suite_identifier=expectation_suite_identifier,\n",
    "    batch_identifier=batch.batch_kwargs.to_id(),\n",
    "    run_id=run_id\n",
    ")\n",
    "data_context.build_data_docs()\n",
    "data_context.open_data_docs(validation_result_identifier)\n"
   ]
  }
 ],
 "metadata": {
  "kernelspec": {
   "display_name": "optimus_pkg",
   "language": "python",
   "name": "python3"
  },
  "language_info": {
   "codemirror_mode": {
    "name": "ipython",
    "version": 3
   },
   "file_extension": ".py",
   "mimetype": "text/x-python",
   "name": "python",
   "nbconvert_exporter": "python",
   "pygments_lexer": "ipython3",
   "version": "3.7.9"
  }
 },
 "nbformat": 4,
 "nbformat_minor": 4
}
